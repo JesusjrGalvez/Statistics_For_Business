{
 "cells": [
  {
   "cell_type": "code",
   "execution_count": null,
   "outputs": [],
   "source": [
    "https://www.udemy.com/course/data-statistics/learn/lecture/6941716#notes"
   ],
   "metadata": {
    "collapsed": false
   }
  },
  {
   "cell_type": "code",
   "execution_count": 84,
   "outputs": [],
   "source": [
    "# Men\n",
    "mu= 69.1\n",
    "sigma = 2.9\n",
    "variance = 8.41"
   ],
   "metadata": {
    "collapsed": false
   }
  },
  {
   "cell_type": "code",
   "execution_count": null,
   "outputs": [],
   "source": [
    "# Women\n",
    "my = 63.7\n",
    "sigma = 2.7\n",
    "variance = 7.29"
   ],
   "metadata": {
    "collapsed": false
   }
  },
  {
   "cell_type": "code",
   "execution_count": 1,
   "outputs": [],
   "source": [
    "import math"
   ],
   "metadata": {
    "collapsed": false
   }
  },
  {
   "cell_type": "code",
   "execution_count": 86,
   "outputs": [
    {
     "name": "stdout",
     "output_type": "stream",
     "text": [
      "<class 'types.GenericAlias'>\n"
     ]
    }
   ],
   "source": [
    "rng = [mu, mu+sigma, mu+sigma*2, mu+sigma*3]\n",
    "print(type(list[0]))"
   ],
   "metadata": {
    "collapsed": false
   }
  },
  {
   "cell_type": "code",
   "execution_count": 83,
   "outputs": [
    {
     "name": "stdout",
     "output_type": "stream",
     "text": [
      "69.1\n",
      "72.0\n",
      "74.89999999999999\n",
      "77.8\n"
     ]
    }
   ],
   "source": [
    "for i in rng:\n",
    "    print(i)"
   ],
   "metadata": {
    "collapsed": false
   }
  },
  {
   "cell_type": "code",
   "execution_count": 61,
   "outputs": [],
   "source": [
    "def prob(x):\n",
    "    return (1/(sigma*math.sqrt(2*math.pi))) * math.exp(- ((x-mu)**2 / (2*sigma**2) ) )"
   ],
   "metadata": {
    "collapsed": false
   }
  },
  {
   "cell_type": "code",
   "execution_count": 37,
   "outputs": [],
   "source": [
    "def prob(x):\n",
    "    return (1/(2.9*math.sqrt(2*math.pi))) * math.exp(- ((x-69.1)**2 / (2*2.9**2) ) )"
   ],
   "metadata": {
    "collapsed": false
   }
  },
  {
   "cell_type": "code",
   "execution_count": 87,
   "outputs": [
    {
     "name": "stdout",
     "output_type": "stream",
     "text": [
      "69.1: 0.13756630358670094\n",
      "72.0: 0.08343818086866998\n",
      "74.89999999999999: 0.01861757465972006\n",
      "77.8: 0.0015282235903234453\n"
     ]
    }
   ],
   "source": [
    "result = 0\n",
    "\n",
    "for index in rng:\n",
    "    print(f\"{index}: {prob(index)}\")\n",
    "    result += prob(index)"
   ],
   "metadata": {
    "collapsed": false
   }
  },
  {
   "cell_type": "code",
   "execution_count": 65,
   "outputs": [
    {
     "data": {
      "text/plain": "0"
     },
     "execution_count": 65,
     "metadata": {},
     "output_type": "execute_result"
    }
   ],
   "source": [
    "result"
   ],
   "metadata": {
    "collapsed": false
   }
  },
  {
   "cell_type": "code",
   "execution_count": null,
   "outputs": [],
   "source": [],
   "metadata": {
    "collapsed": false
   }
  }
 ],
 "metadata": {
  "kernelspec": {
   "display_name": "Python 3",
   "language": "python",
   "name": "python3"
  },
  "language_info": {
   "codemirror_mode": {
    "name": "ipython",
    "version": 2
   },
   "file_extension": ".py",
   "mimetype": "text/x-python",
   "name": "python",
   "nbconvert_exporter": "python",
   "pygments_lexer": "ipython2",
   "version": "2.7.6"
  }
 },
 "nbformat": 4,
 "nbformat_minor": 0
}
