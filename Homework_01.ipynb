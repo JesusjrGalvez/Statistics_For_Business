{
 "cells": [
  {
   "cell_type": "code",
   "execution_count": null,
   "outputs": [],
   "source": [
    "https://www.udemy.com/course/data-statistics/learn/lecture/6941716#notes"
   ],
   "metadata": {
    "collapsed": false
   }
  },
  {
   "cell_type": "code",
   "execution_count": 43,
   "outputs": [],
   "source": [
    "# Men\n",
    "mu= 69.1\n",
    "sigma = 2.9\n",
    "variance = 8.41"
   ],
   "metadata": {
    "collapsed": false
   }
  },
  {
   "cell_type": "code",
   "execution_count": null,
   "outputs": [],
   "source": [
    "# Women\n",
    "my = 63.7\n",
    "sigma = 2.7\n",
    "variance = 7.29"
   ],
   "metadata": {
    "collapsed": false
   }
  },
  {
   "cell_type": "code",
   "execution_count": 1,
   "outputs": [],
   "source": [
    "import math"
   ],
   "metadata": {
    "collapsed": false
   }
  },
  {
   "cell_type": "code",
   "execution_count": 44,
   "outputs": [
    {
     "name": "stdout",
     "output_type": "stream",
     "text": [
      "[50, 51, 52, 53, 54, 55, 56, 57, 58, 59, 60, 61, 62, 63, 64, 65, 66, 67, 68, 69, 70, 71, 72, 73, 74, 75, 76, 77, 78, 79]\n"
     ]
    }
   ],
   "source": [
    "rng = list(range(50, 80))\n",
    "print(rng)"
   ],
   "metadata": {
    "collapsed": false
   }
  },
  {
   "cell_type": "code",
   "execution_count": 45,
   "outputs": [],
   "source": [
    "def prob(x):\n",
    "    return (1/(sigma*math.sqrt(2*math.pi))) * math.exp(- ((x-mu)**2 / (2*sigma**2) ) )"
   ],
   "metadata": {
    "collapsed": false
   }
  },
  {
   "cell_type": "code",
   "execution_count": 37,
   "outputs": [],
   "source": [
    "def prob(x):\n",
    "    return (1/(2.9*math.sqrt(2*math.pi))) * math.exp(- ((x-69.1)**2 / (2*2.9**2) ) )"
   ],
   "metadata": {
    "collapsed": false
   }
  },
  {
   "cell_type": "code",
   "execution_count": 36,
   "outputs": [
    {
     "data": {
      "text/plain": "0.9529841987459868"
     },
     "execution_count": 36,
     "metadata": {},
     "output_type": "execute_result"
    }
   ],
   "source": [
    "math.exp(- ((x-69.1)**2 / (2*2.9**2) ) )"
   ],
   "metadata": {
    "collapsed": false
   }
  },
  {
   "cell_type": "code",
   "execution_count": 46,
   "outputs": [
    {
     "name": "stdout",
     "output_type": "stream",
     "text": [
      "50: 5.236881097083728e-11\n",
      "51: 4.781688907100769e-10\n",
      "52: 3.8765882470283115e-09\n",
      "53: 2.790472738806305e-08\n",
      "54: 1.783469332563937e-07\n",
      "55: 1.012076311906191e-06\n",
      "56: 5.099418166848176e-06\n",
      "57: 2.281328079363349e-05\n",
      "58: 9.061803020684066e-05\n",
      "59: 0.0003195959311602699\n",
      "60: 0.0010008007406217575\n",
      "61: 0.002782619005150961\n",
      "62: 0.006869413012130015\n",
      "63: 0.015057236168346146\n",
      "64: 0.02930425255078178\n",
      "65: 0.05063791171378056\n",
      "66: 0.07769278300642027\n",
      "67: 0.10583890111099115\n",
      "68: 0.12801761094180134\n",
      "69: 0.13748454055577328\n",
      "70: 0.13109851359801936\n",
      "71: 0.1109944902715688\n",
      "72: 0.08343818086866998\n",
      "73: 0.05569138073215344\n",
      "74: 0.03300432811784745\n",
      "75: 0.017366550330038224\n",
      "76: 0.008113644496926975\n",
      "77: 0.0033657212372897685\n",
      "78: 0.0012396527942567875\n",
      "79: 0.0004053981259105745\n"
     ]
    }
   ],
   "source": [
    "result = 0\n",
    "\n",
    "for index in rng:\n",
    "    print(f\"{index}: {prob(index)}\")\n",
    "    result += prob(index)"
   ],
   "metadata": {
    "collapsed": false
   }
  },
  {
   "cell_type": "code",
   "execution_count": 42,
   "outputs": [
    {
     "data": {
      "text/plain": "0.9998432787739047"
     },
     "execution_count": 42,
     "metadata": {},
     "output_type": "execute_result"
    }
   ],
   "source": [
    "result"
   ],
   "metadata": {
    "collapsed": false
   }
  },
  {
   "cell_type": "code",
   "execution_count": null,
   "outputs": [],
   "source": [],
   "metadata": {
    "collapsed": false
   }
  }
 ],
 "metadata": {
  "kernelspec": {
   "display_name": "Python 3",
   "language": "python",
   "name": "python3"
  },
  "language_info": {
   "codemirror_mode": {
    "name": "ipython",
    "version": 2
   },
   "file_extension": ".py",
   "mimetype": "text/x-python",
   "name": "python",
   "nbconvert_exporter": "python",
   "pygments_lexer": "ipython2",
   "version": "2.7.6"
  }
 },
 "nbformat": 4,
 "nbformat_minor": 0
}
